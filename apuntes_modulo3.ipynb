{
 "cells": [
  {
   "cell_type": "markdown",
   "id": "8f1e3681",
   "metadata": {},
   "source": [
    "# Módulo 3"
   ]
  },
  {
   "cell_type": "code",
   "execution_count": 2,
   "id": "46f9ddcb",
   "metadata": {},
   "outputs": [
    {
     "data": {
      "text/plain": [
       "array([1, 2, 3, 4, 5, 6, 7, 8, 9])"
      ]
     },
     "execution_count": 2,
     "metadata": {},
     "output_type": "execute_result"
    }
   ],
   "source": [
    "# Apuntes Módulo 3\n",
    "\n",
    "import numpy as np\n",
    "\n",
    "#crear Arrays a partir de una lista\n",
    "\n",
    "vector = np.array([1,2,3,4,5,6,7,8,9])\n",
    "vector\n"
   ]
  },
  {
   "cell_type": "code",
   "execution_count": 2,
   "id": "4b8e6dff",
   "metadata": {},
   "outputs": [
    {
     "data": {
      "text/plain": [
       "numpy.ndarray"
      ]
     },
     "execution_count": 2,
     "metadata": {},
     "output_type": "execute_result"
    }
   ],
   "source": [
    "type (vector)"
   ]
  },
  {
   "cell_type": "code",
   "execution_count": 3,
   "id": "2685570e",
   "metadata": {},
   "outputs": [
    {
     "data": {
      "text/plain": [
       "array(['a', 'b', 'c'], dtype='<U1')"
      ]
     },
     "execution_count": 3,
     "metadata": {},
     "output_type": "execute_result"
    }
   ],
   "source": [
    "#A partir de una tupla ( es inmutable)\n",
    "vector = np.array((\"a\", \"b\", \"c\"))\n",
    "vector"
   ]
  },
  {
   "cell_type": "code",
   "execution_count": 4,
   "id": "cc824f31",
   "metadata": {},
   "outputs": [
    {
     "data": {
      "text/plain": [
       "array({1, 2, 3, 4, 5, 6}, dtype=object)"
      ]
     },
     "execution_count": 4,
     "metadata": {},
     "output_type": "execute_result"
    }
   ],
   "source": [
    "# a partir de un conjunto \n",
    "\n",
    "vector = np.array ({1,2,3,4,5,3,6,4,5})\n",
    "vector"
   ]
  },
  {
   "cell_type": "code",
   "execution_count": 8,
   "id": "da26ddc4",
   "metadata": {},
   "outputs": [
    {
     "data": {
      "text/plain": [
       "array([3, 5, 7, 9])"
      ]
     },
     "execution_count": 8,
     "metadata": {},
     "output_type": "execute_result"
    }
   ],
   "source": [
    "#funcion arange \n",
    "\n",
    "vector = np.arange (3,10,2) #Del 3-10,con salto de 2 *No llega al 10! mirar manual \n",
    "vector"
   ]
  },
  {
   "cell_type": "code",
   "execution_count": 11,
   "id": "87adc7bc",
   "metadata": {},
   "outputs": [
    {
     "data": {
      "text/plain": [
       "array([1., 1., 1., 1.])"
      ]
     },
     "execution_count": 11,
     "metadata": {},
     "output_type": "execute_result"
    }
   ],
   "source": [
    "#Rellando con '0', '1'\n",
    "\n",
    "vector = np.ones(4)\n",
    "vector\n",
    "\n"
   ]
  },
  {
   "cell_type": "code",
   "execution_count": 10,
   "id": "515616f3",
   "metadata": {},
   "outputs": [
    {
     "data": {
      "text/plain": [
       "array([0., 0., 0.])"
      ]
     },
     "execution_count": 10,
     "metadata": {},
     "output_type": "execute_result"
    }
   ],
   "source": [
    "vector = np.zeros(3)\n",
    "vector"
   ]
  },
  {
   "cell_type": "code",
   "execution_count": 12,
   "id": "0efb7b1d",
   "metadata": {},
   "outputs": [
    {
     "data": {
      "text/plain": [
       "array([ 1.  ,  3.25,  5.5 ,  7.75, 10.  ])"
      ]
     },
     "execution_count": 12,
     "metadata": {},
     "output_type": "execute_result"
    }
   ],
   "source": [
    "# Funcion linspace \n",
    "\n",
    "vector = np.linspace(1,10,5) #Genera valores entre 1,10 con separacion de 5\n",
    "\n",
    "vector"
   ]
  },
  {
   "cell_type": "code",
   "execution_count": 13,
   "id": "544c1609",
   "metadata": {},
   "outputs": [
    {
     "data": {
      "text/plain": [
       "array([1, 2, 3, 4, 5])"
      ]
     },
     "execution_count": 13,
     "metadata": {},
     "output_type": "execute_result"
    }
   ],
   "source": [
    "#Valores de tipos distintos\n",
    "vector = np.array([1,2,3,4,5])\n",
    "vector\n"
   ]
  },
  {
   "cell_type": "code",
   "execution_count": 14,
   "id": "ca36b7bc",
   "metadata": {},
   "outputs": [
    {
     "data": {
      "text/plain": [
       "numpy.int64"
      ]
     },
     "execution_count": 14,
     "metadata": {},
     "output_type": "execute_result"
    }
   ],
   "source": [
    "type(vector[0])"
   ]
  },
  {
   "cell_type": "code",
   "execution_count": 16,
   "id": "269acef3",
   "metadata": {},
   "outputs": [
    {
     "data": {
      "text/plain": [
       "array([1., 2., 3., 5., 6.])"
      ]
     },
     "execution_count": 16,
     "metadata": {},
     "output_type": "execute_result"
    }
   ],
   "source": [
    "vector = np.array([1,2,3.0,5,6]) # pasa todo a punto float, solo debe haber una variable si hay 2 tipos automaticamente pasa a ser del tipo2 \n",
    "\n",
    "vector"
   ]
  },
  {
   "cell_type": "code",
   "execution_count": 18,
   "id": "0449589f",
   "metadata": {},
   "outputs": [
    {
     "data": {
      "text/plain": [
       "array([1, 2, 3, 4, 0])"
      ]
     },
     "execution_count": 18,
     "metadata": {},
     "output_type": "execute_result"
    }
   ],
   "source": [
    "vector = np.array([1,2,3,4, False]) \n",
    "vector\n",
    "\n",
    "# Los booleanos contemplan false 0, true 1 - se engloba a los enteros. "
   ]
  },
  {
   "cell_type": "code",
   "execution_count": 3,
   "id": "830662e6",
   "metadata": {},
   "outputs": [
    {
     "data": {
      "text/plain": [
       "array(['1', '2', '3', 'hola', 'True'], dtype='<U21')"
      ]
     },
     "execution_count": 3,
     "metadata": {},
     "output_type": "execute_result"
    }
   ],
   "source": [
    "vector = np.array([1,2,3,\"hola\", True])\n",
    "vector\n"
   ]
  },
  {
   "cell_type": "code",
   "execution_count": 4,
   "id": "b5a8e297",
   "metadata": {},
   "outputs": [
    {
     "data": {
      "text/plain": [
       "array([1, 2, 3, 4])"
      ]
     },
     "execution_count": 4,
     "metadata": {},
     "output_type": "execute_result"
    }
   ],
   "source": [
    "# COPIAR ARRAYS \n",
    "vector1 = np.array([1,2,3,4])\n",
    "vector1"
   ]
  },
  {
   "cell_type": "code",
   "execution_count": 5,
   "id": "f2922885",
   "metadata": {},
   "outputs": [
    {
     "data": {
      "text/plain": [
       "array([1, 2, 3, 4])"
      ]
     },
     "execution_count": 5,
     "metadata": {},
     "output_type": "execute_result"
    }
   ],
   "source": [
    "vector2 = vector1\n",
    "vector2"
   ]
  },
  {
   "cell_type": "code",
   "execution_count": 6,
   "id": "e94b2813",
   "metadata": {},
   "outputs": [
    {
     "data": {
      "text/plain": [
       "140331400645104"
      ]
     },
     "execution_count": 6,
     "metadata": {},
     "output_type": "execute_result"
    }
   ],
   "source": [
    "id(vector1)"
   ]
  },
  {
   "cell_type": "code",
   "execution_count": 7,
   "id": "af36d943",
   "metadata": {},
   "outputs": [
    {
     "data": {
      "text/plain": [
       "140331400645104"
      ]
     },
     "execution_count": 7,
     "metadata": {},
     "output_type": "execute_result"
    }
   ],
   "source": [
    "id(vector2)"
   ]
  },
  {
   "cell_type": "code",
   "execution_count": 8,
   "id": "54a6612b",
   "metadata": {},
   "outputs": [
    {
     "data": {
      "text/plain": [
       "array([1, 2, 3, 4])"
      ]
     },
     "execution_count": 8,
     "metadata": {},
     "output_type": "execute_result"
    }
   ],
   "source": [
    "vector3 = np.copy(vector1)\n",
    "vector3"
   ]
  },
  {
   "cell_type": "code",
   "execution_count": 9,
   "id": "3847df45",
   "metadata": {},
   "outputs": [
    {
     "data": {
      "text/plain": [
       "140331378467792"
      ]
     },
     "execution_count": 9,
     "metadata": {},
     "output_type": "execute_result"
    }
   ],
   "source": [
    "id(vector3)"
   ]
  },
  {
   "cell_type": "code",
   "execution_count": 10,
   "id": "1e211787",
   "metadata": {},
   "outputs": [
    {
     "data": {
      "text/plain": [
       "array([14,  2,  3,  4])"
      ]
     },
     "execution_count": 10,
     "metadata": {},
     "output_type": "execute_result"
    }
   ],
   "source": [
    "vector1[0] = 14\n",
    "vector1"
   ]
  },
  {
   "cell_type": "code",
   "execution_count": 11,
   "id": "56561ec3",
   "metadata": {},
   "outputs": [
    {
     "data": {
      "text/plain": [
       "array([14,  2,  3,  4])"
      ]
     },
     "execution_count": 11,
     "metadata": {},
     "output_type": "execute_result"
    }
   ],
   "source": [
    "vector2"
   ]
  },
  {
   "cell_type": "code",
   "execution_count": 13,
   "id": "e6a82e44",
   "metadata": {},
   "outputs": [
    {
     "data": {
      "text/plain": [
       "1"
      ]
     },
     "execution_count": 13,
     "metadata": {},
     "output_type": "execute_result"
    }
   ],
   "source": [
    "vector3[0]"
   ]
  },
  {
   "cell_type": "markdown",
   "id": "4ac47612",
   "metadata": {},
   "source": [
    "APUNTES 31/10/23 - MATRICES (ARRAY MULTIDIMENSIONALES)\n"
   ]
  },
  {
   "cell_type": "code",
   "execution_count": 14,
   "id": "8a884713",
   "metadata": {},
   "outputs": [
    {
     "data": {
      "text/plain": [
       "array([1, 2, 3, 4])"
      ]
     },
     "execution_count": 14,
     "metadata": {},
     "output_type": "execute_result"
    }
   ],
   "source": [
    "lista =[1,2,3,4]\n",
    "vector = np.array([1,2,3,4])\n",
    "vector"
   ]
  },
  {
   "cell_type": "code",
   "execution_count": 18,
   "id": "1a98ef7d",
   "metadata": {},
   "outputs": [
    {
     "data": {
      "text/plain": [
       "array([[1, 2, 3],\n",
       "       [4, 5, 6]])"
      ]
     },
     "execution_count": 18,
     "metadata": {},
     "output_type": "execute_result"
    }
   ],
   "source": [
    "lista_de_listas=[[1,2,3],[4,5,6]]\n",
    "matriz =np.array(lista_de_listas)\n",
    "matriz"
   ]
  },
  {
   "cell_type": "code",
   "execution_count": 19,
   "id": "41c556cd",
   "metadata": {},
   "outputs": [
    {
     "data": {
      "text/plain": [
       "3"
      ]
     },
     "execution_count": 19,
     "metadata": {},
     "output_type": "execute_result"
    }
   ],
   "source": [
    "vector[2]"
   ]
  },
  {
   "cell_type": "code",
   "execution_count": 21,
   "id": "bdea6827",
   "metadata": {},
   "outputs": [
    {
     "data": {
      "text/plain": [
       "5"
      ]
     },
     "execution_count": 21,
     "metadata": {},
     "output_type": "execute_result"
    }
   ],
   "source": [
    "matriz[1,1]\n",
    "matriz[1][1]"
   ]
  },
  {
   "cell_type": "code",
   "execution_count": 32,
   "id": "5ad94a03",
   "metadata": {},
   "outputs": [
    {
     "data": {
      "text/plain": [
       "array([[[1, 2],\n",
       "        [3, 4],\n",
       "        [5, 6],\n",
       "        [7, 8]]])"
      ]
     },
     "execution_count": 32,
     "metadata": {},
     "output_type": "execute_result"
    }
   ],
   "source": [
    "matriz3d = np.array([[[1,2],[3,4],[5,6],[7,8]]])\n",
    "matriz3d"
   ]
  },
  {
   "cell_type": "code",
   "execution_count": 33,
   "id": "ebdd45a7",
   "metadata": {},
   "outputs": [
    {
     "data": {
      "text/plain": [
       "3"
      ]
     },
     "execution_count": 33,
     "metadata": {},
     "output_type": "execute_result"
    }
   ],
   "source": [
    "matriz3d[0,1,0]"
   ]
  },
  {
   "cell_type": "code",
   "execution_count": 35,
   "id": "4638e29c",
   "metadata": {},
   "outputs": [
    {
     "data": {
      "text/plain": [
       "1"
      ]
     },
     "execution_count": 35,
     "metadata": {},
     "output_type": "execute_result"
    }
   ],
   "source": [
    "vector.ndim\n"
   ]
  },
  {
   "cell_type": "code",
   "execution_count": 36,
   "id": "0267ebc2",
   "metadata": {},
   "outputs": [
    {
     "data": {
      "text/plain": [
       "2"
      ]
     },
     "execution_count": 36,
     "metadata": {},
     "output_type": "execute_result"
    }
   ],
   "source": [
    "matriz.ndim"
   ]
  },
  {
   "cell_type": "code",
   "execution_count": 37,
   "id": "dad8dae7",
   "metadata": {},
   "outputs": [
    {
     "data": {
      "text/plain": [
       "array([[0, 0, 0],\n",
       "       [0, 0, 0],\n",
       "       [0, 0, 0],\n",
       "       [0, 0, 0],\n",
       "       [0, 0, 0]], dtype=int32)"
      ]
     },
     "execution_count": 37,
     "metadata": {},
     "output_type": "execute_result"
    }
   ],
   "source": [
    "matriz =np.zeros([5,3],dtype=\"int32\")\n",
    "matriz"
   ]
  },
  {
   "cell_type": "markdown",
   "id": "98b1dbde",
   "metadata": {},
   "source": [
    "PROPIEDADES DE MATRICES"
   ]
  },
  {
   "cell_type": "code",
   "execution_count": 40,
   "id": "39d65e29",
   "metadata": {},
   "outputs": [
    {
     "name": "stdout",
     "output_type": "stream",
     "text": [
      "4\n",
      "(4,)\n",
      "1\n"
     ]
    }
   ],
   "source": [
    "print(vector.size)\n",
    "print(vector.shape)\n",
    "print(vector.ndim)"
   ]
  },
  {
   "cell_type": "code",
   "execution_count": 42,
   "id": "1045f9ac",
   "metadata": {},
   "outputs": [
    {
     "name": "stdout",
     "output_type": "stream",
     "text": [
      "15\n",
      "15\n",
      "(5, 3)\n",
      "2\n"
     ]
    }
   ],
   "source": [
    "print(matriz.size)\n",
    "print(matriz.shape)\n",
    "print(matriz.ndim)"
   ]
  },
  {
   "cell_type": "markdown",
   "id": "79cf1296",
   "metadata": {},
   "source": [
    "REDIMENSIONAR"
   ]
  },
  {
   "cell_type": "code",
   "execution_count": 46,
   "id": "542e6d14",
   "metadata": {},
   "outputs": [
    {
     "data": {
      "text/plain": [
       "array([6, 5, 4, 3, 2, 1])"
      ]
     },
     "execution_count": 46,
     "metadata": {},
     "output_type": "execute_result"
    }
   ],
   "source": [
    "vector = np.array([6,5,4,3,2,1,])\n",
    "vector"
   ]
  },
  {
   "cell_type": "code",
   "execution_count": 47,
   "id": "b0544dd8",
   "metadata": {},
   "outputs": [
    {
     "data": {
      "text/plain": [
       "array([[6, 5],\n",
       "       [4, 3],\n",
       "       [2, 1]])"
      ]
     },
     "execution_count": 47,
     "metadata": {},
     "output_type": "execute_result"
    }
   ],
   "source": [
    "matriz = vector.reshape(3,2)\n",
    "matriz"
   ]
  },
  {
   "cell_type": "code",
   "execution_count": 51,
   "id": "920a587d",
   "metadata": {},
   "outputs": [
    {
     "data": {
      "text/plain": [
       "array([[6, 5],\n",
       "       [4, 3],\n",
       "       [2, 1]])"
      ]
     },
     "execution_count": 51,
     "metadata": {},
     "output_type": "execute_result"
    }
   ],
   "source": [
    "matriz2 = matriz.reshape(3,2)\n",
    "matriz2\n"
   ]
  },
  {
   "cell_type": "code",
   "execution_count": 52,
   "id": "857fa6b4",
   "metadata": {},
   "outputs": [
    {
     "data": {
      "text/plain": [
       "array([[6],\n",
       "       [5],\n",
       "       [4],\n",
       "       [3],\n",
       "       [2],\n",
       "       [1]])"
      ]
     },
     "execution_count": 52,
     "metadata": {},
     "output_type": "execute_result"
    }
   ],
   "source": [
    "matriz2.reshape(6,1)"
   ]
  },
  {
   "cell_type": "code",
   "execution_count": 54,
   "id": "929a193a",
   "metadata": {},
   "outputs": [
    {
     "data": {
      "text/plain": [
       "array([6, 5, 4, 3, 2, 1])"
      ]
     },
     "execution_count": 54,
     "metadata": {},
     "output_type": "execute_result"
    }
   ],
   "source": [
    "matriz2.reshape(1,6)[0]"
   ]
  },
  {
   "cell_type": "markdown",
   "id": "bfd806a6",
   "metadata": {},
   "source": [
    "AÑADIR Y BORRAR ELEMENTOS"
   ]
  },
  {
   "cell_type": "code",
   "execution_count": 56,
   "id": "242e7873",
   "metadata": {},
   "outputs": [
    {
     "data": {
      "text/plain": [
       "array(['blanco', 'azul', 'rojo'], dtype='<U6')"
      ]
     },
     "execution_count": 56,
     "metadata": {},
     "output_type": "execute_result"
    }
   ],
   "source": [
    "vector = np.array([\"blanco\",\"azul\",\"rojo\"])\n",
    "vector"
   ]
  },
  {
   "cell_type": "code",
   "execution_count": 59,
   "id": "1af5ba54",
   "metadata": {},
   "outputs": [
    {
     "data": {
      "text/plain": [
       "array(['blanco', 'azul', 'rojo', 'verde'], dtype='<U6')"
      ]
     },
     "execution_count": 59,
     "metadata": {},
     "output_type": "execute_result"
    }
   ],
   "source": [
    "vector2 = np.append(vector,[\"verde\"]) # añade datos al vector\n",
    "vector2"
   ]
  },
  {
   "cell_type": "code",
   "execution_count": 72,
   "id": "62019d1e",
   "metadata": {},
   "outputs": [
    {
     "data": {
      "text/plain": [
       "array([[1, 2, 3],\n",
       "       [4, 5, 6]])"
      ]
     },
     "execution_count": 72,
     "metadata": {},
     "output_type": "execute_result"
    }
   ],
   "source": [
    "matriz = np.array([[1,2,3],[4,5,6]])\n",
    "matriz"
   ]
  },
  {
   "cell_type": "code",
   "execution_count": 67,
   "id": "8664de70",
   "metadata": {},
   "outputs": [
    {
     "data": {
      "text/plain": [
       "array([[1, 2, 4],\n",
       "       [4, 5, 6],\n",
       "       [7, 8, 9]])"
      ]
     },
     "execution_count": 67,
     "metadata": {},
     "output_type": "execute_result"
    }
   ],
   "source": [
    "matriz_2 = np.append(matriz,[[7,8,9]],axis =0)\n",
    "matriz_2"
   ]
  },
  {
   "cell_type": "code",
   "execution_count": 69,
   "id": "21f3fbdf",
   "metadata": {},
   "outputs": [
    {
     "data": {
      "text/plain": [
       "array([[1, 2, 4, 7],\n",
       "       [4, 5, 6, 8]])"
      ]
     },
     "execution_count": 69,
     "metadata": {},
     "output_type": "execute_result"
    }
   ],
   "source": [
    "matriz3 = np.append(matriz,[[7],[8]], axis = 1)\n",
    "matriz3"
   ]
  },
  {
   "cell_type": "code",
   "execution_count": 70,
   "id": "b42b4347",
   "metadata": {},
   "outputs": [
    {
     "data": {
      "text/plain": [
       "array([[1, 2, 4]])"
      ]
     },
     "execution_count": 70,
     "metadata": {},
     "output_type": "execute_result"
    }
   ],
   "source": [
    "np.delete(matriz,1,axis =0)"
   ]
  },
  {
   "cell_type": "code",
   "execution_count": 71,
   "id": "f797bb84",
   "metadata": {},
   "outputs": [
    {
     "data": {
      "text/plain": [
       "array([[1, 4],\n",
       "       [4, 6]])"
      ]
     },
     "execution_count": 71,
     "metadata": {},
     "output_type": "execute_result"
    }
   ],
   "source": [
    "np.delete(matriz,1,axis=1)"
   ]
  },
  {
   "cell_type": "markdown",
   "id": "f30c2949",
   "metadata": {},
   "source": [
    "OPERACIONES CON ARRAYS Y MATRICES\n"
   ]
  },
  {
   "cell_type": "code",
   "execution_count": 74,
   "id": "eb1eeb44",
   "metadata": {},
   "outputs": [
    {
     "data": {
      "text/plain": [
       "array([[0.62335658, 0.97177663, 0.73023443],\n",
       "       [0.36924712, 0.16259876, 0.83852862]])"
      ]
     },
     "execution_count": 74,
     "metadata": {},
     "output_type": "execute_result"
    }
   ],
   "source": [
    "matriz = np.random.rand(2,3)\n",
    "matriz "
   ]
  },
  {
   "cell_type": "markdown",
   "id": "0e75a0f0",
   "metadata": {},
   "source": [
    "Matriz de numeros aleatorios con distribucion media, estándar 1"
   ]
  },
  {
   "cell_type": "code",
   "execution_count": 76,
   "id": "9ca2dd5c",
   "metadata": {},
   "outputs": [
    {
     "data": {
      "text/plain": [
       "array([[ 1.08535699, -0.49726839, -1.86338847],\n",
       "       [ 0.42660497, -0.23307454, -0.18802338]])"
      ]
     },
     "execution_count": 76,
     "metadata": {},
     "output_type": "execute_result"
    }
   ],
   "source": [
    "matriz = np.random.randn(2,3)\n",
    "matriz"
   ]
  },
  {
   "cell_type": "code",
   "execution_count": 77,
   "id": "07aee8bc",
   "metadata": {},
   "outputs": [
    {
     "data": {
      "text/plain": [
       "-0.21054895630313347"
      ]
     },
     "execution_count": 77,
     "metadata": {},
     "output_type": "execute_result"
    }
   ],
   "source": [
    "np.median(matriz)"
   ]
  },
  {
   "cell_type": "code",
   "execution_count": 79,
   "id": "552dd53f",
   "metadata": {},
   "outputs": [
    {
     "data": {
      "text/plain": [
       "3.5"
      ]
     },
     "execution_count": 79,
     "metadata": {},
     "output_type": "execute_result"
    }
   ],
   "source": [
    "matriz = np.array([[1,2,3],[4,5,6]])\n",
    "np.mean(matriz)"
   ]
  },
  {
   "cell_type": "code",
   "execution_count": 80,
   "id": "f37f50a2",
   "metadata": {},
   "outputs": [
    {
     "data": {
      "text/plain": [
       "array([2.5, 3.5, 4.5])"
      ]
     },
     "execution_count": 80,
     "metadata": {},
     "output_type": "execute_result"
    }
   ],
   "source": [
    "np.mean(matriz,axis=0)"
   ]
  },
  {
   "cell_type": "code",
   "execution_count": 81,
   "id": "3f757571",
   "metadata": {},
   "outputs": [
    {
     "data": {
      "text/plain": [
       "array([2., 5.])"
      ]
     },
     "execution_count": 81,
     "metadata": {},
     "output_type": "execute_result"
    }
   ],
   "source": [
    "np.mean(matriz,axis=1)"
   ]
  },
  {
   "cell_type": "code",
   "execution_count": 83,
   "id": "ae53790b",
   "metadata": {},
   "outputs": [],
   "source": [
    "matriz1 = np.array([[1,2,3],[4,5,6]])\n",
    "matriz2 = np.array([[3,2,1],[6,5,4]])"
   ]
  },
  {
   "cell_type": "code",
   "execution_count": 84,
   "id": "48129361",
   "metadata": {},
   "outputs": [
    {
     "data": {
      "text/plain": [
       "array([[ 4,  4,  4],\n",
       "       [10, 10, 10]])"
      ]
     },
     "execution_count": 84,
     "metadata": {},
     "output_type": "execute_result"
    }
   ],
   "source": [
    "matriz1 + matriz2"
   ]
  },
  {
   "cell_type": "code",
   "execution_count": 90,
   "id": "981e2ed0",
   "metadata": {},
   "outputs": [
    {
     "data": {
      "text/plain": [
       "array([[0, 0, 0],\n",
       "       [0, 0, 0]])"
      ]
     },
     "execution_count": 90,
     "metadata": {},
     "output_type": "execute_result"
    }
   ],
   "source": [
    "matriz1 - matriz2"
   ]
  },
  {
   "cell_type": "code",
   "execution_count": 88,
   "id": "eb4f9259",
   "metadata": {},
   "outputs": [
    {
     "data": {
      "text/plain": [
       "array([[ 9,  6,  3],\n",
       "       [18, 15, 12]])"
      ]
     },
     "execution_count": 88,
     "metadata": {},
     "output_type": "execute_result"
    }
   ],
   "source": [
    "matriz1*3"
   ]
  },
  {
   "cell_type": "code",
   "execution_count": 89,
   "id": "41e1e354",
   "metadata": {},
   "outputs": [
    {
     "data": {
      "text/plain": [
       "array([[ True,  True, False],\n",
       "       [ True,  True,  True]])"
      ]
     },
     "execution_count": 89,
     "metadata": {},
     "output_type": "execute_result"
    }
   ],
   "source": [
    "matriz1 > 1"
   ]
  },
  {
   "cell_type": "code",
   "execution_count": 92,
   "id": "dfbe2c88",
   "metadata": {},
   "outputs": [
    {
     "data": {
      "text/plain": [
       "array([5, 7, 9])"
      ]
     },
     "execution_count": 92,
     "metadata": {},
     "output_type": "execute_result"
    }
   ],
   "source": [
    "matriz.sum(axis =0)"
   ]
  },
  {
   "cell_type": "code",
   "execution_count": 93,
   "id": "408b6c5f",
   "metadata": {},
   "outputs": [
    {
     "data": {
      "text/plain": [
       "1"
      ]
     },
     "execution_count": 93,
     "metadata": {},
     "output_type": "execute_result"
    }
   ],
   "source": [
    "matriz1.min()"
   ]
  },
  {
   "cell_type": "code",
   "execution_count": 94,
   "id": "ec3251e1",
   "metadata": {},
   "outputs": [
    {
     "data": {
      "text/plain": [
       "6"
      ]
     },
     "execution_count": 94,
     "metadata": {},
     "output_type": "execute_result"
    }
   ],
   "source": [
    "matriz1.max()"
   ]
  },
  {
   "cell_type": "code",
   "execution_count": 97,
   "id": "757091b6",
   "metadata": {},
   "outputs": [
    {
     "data": {
      "text/plain": [
       "array([[3, 6],\n",
       "       [2, 5],\n",
       "       [1, 4]])"
      ]
     },
     "execution_count": 97,
     "metadata": {},
     "output_type": "execute_result"
    }
   ],
   "source": [
    "matriz1.transpose()"
   ]
  },
  {
   "cell_type": "markdown",
   "id": "5e003db0",
   "metadata": {},
   "source": [
    "ACCESO A PARTES DE UNA MATRIZ"
   ]
  },
  {
   "cell_type": "code",
   "execution_count": 99,
   "id": "29075e3d",
   "metadata": {},
   "outputs": [
    {
     "data": {
      "text/plain": [
       "4"
      ]
     },
     "execution_count": 99,
     "metadata": {},
     "output_type": "execute_result"
    }
   ],
   "source": [
    "vector = np.array([1,2,3,4,5,6])\n",
    "vector[3]"
   ]
  },
  {
   "cell_type": "code",
   "execution_count": 100,
   "id": "7b296754",
   "metadata": {},
   "outputs": [
    {
     "data": {
      "text/plain": [
       "6"
      ]
     },
     "execution_count": 100,
     "metadata": {},
     "output_type": "execute_result"
    }
   ],
   "source": [
    "vector[-1]"
   ]
  },
  {
   "cell_type": "code",
   "execution_count": 101,
   "id": "e2efe2bc",
   "metadata": {},
   "outputs": [
    {
     "data": {
      "text/plain": [
       "array([[1, 2, 3],\n",
       "       [4, 5, 6]])"
      ]
     },
     "execution_count": 101,
     "metadata": {},
     "output_type": "execute_result"
    }
   ],
   "source": [
    "matriz = np.array([[1,2,3],[4,5,6]])\n",
    "matriz"
   ]
  },
  {
   "cell_type": "code",
   "execution_count": 102,
   "id": "89e8ee21",
   "metadata": {},
   "outputs": [
    {
     "data": {
      "text/plain": [
       "array([4, 5, 6])"
      ]
     },
     "execution_count": 102,
     "metadata": {},
     "output_type": "execute_result"
    }
   ],
   "source": [
    "matriz[-1]"
   ]
  },
  {
   "cell_type": "code",
   "execution_count": 103,
   "id": "bedb038e",
   "metadata": {},
   "outputs": [
    {
     "data": {
      "text/plain": [
       "array([[4, 5, 6]])"
      ]
     },
     "execution_count": 103,
     "metadata": {},
     "output_type": "execute_result"
    }
   ],
   "source": [
    "matriz[1:]"
   ]
  },
  {
   "cell_type": "code",
   "execution_count": null,
   "id": "1e1ae1d5",
   "metadata": {},
   "outputs": [],
   "source": []
  },
  {
   "cell_type": "code",
   "execution_count": null,
   "id": "cc7a3349",
   "metadata": {},
   "outputs": [],
   "source": []
  }
 ],
 "metadata": {
  "kernelspec": {
   "display_name": "Python 3 (ipykernel)",
   "language": "python",
   "name": "python3"
  },
  "language_info": {
   "codemirror_mode": {
    "name": "ipython",
    "version": 3
   },
   "file_extension": ".py",
   "mimetype": "text/x-python",
   "name": "python",
   "nbconvert_exporter": "python",
   "pygments_lexer": "ipython3",
   "version": "3.10.9"
  }
 },
 "nbformat": 4,
 "nbformat_minor": 5
}
